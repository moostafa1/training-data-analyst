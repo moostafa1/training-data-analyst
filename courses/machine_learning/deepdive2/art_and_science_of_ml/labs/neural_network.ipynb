{
 "cells": [
  {
   "cell_type": "markdown",
   "metadata": {},
   "source": [
    "# Build a DNN using the Keras Functional API\n",
    "\n",
    "\n",
    "\n",
    "\n",
    "## Learning objectives\n",
    "\n",
    "1. Review how to read in CSV file data using tf.data.\n",
    "2. Specify input, hidden, and output layers in the DNN architecture.\n",
    "3. Review and visualize the final DNN shape.\n",
    "4. Train the model locally and visualize the loss curves.\n",
    "5. Deploy and predict with the model using Cloud AI Platform. \n",
    "\n",
    "\n",
    "## Introduction\n",
    "\n",
    "In this notebook, we will build a Keras DNN to predict the fare amount for NYC taxi cab rides.\n",
    "\n",
    "Each learning objective will correspond to a __#TODO__ in this student lab notebook -- try to complete this notebook first and then review the [solution notebook](../solutions/neural_network.ipynb)."
   ]
  },
  {
   "cell_type": "code",
   "execution_count": 1,
   "metadata": {
    "tags": []
   },
   "outputs": [],
   "source": [
    "!sudo chown -R jupyter:jupyter /home/jupyter/training-data-analyst"
   ]
  },
  {
   "cell_type": "code",
   "execution_count": 2,
   "metadata": {
    "tags": []
   },
   "outputs": [
    {
     "name": "stdout",
     "output_type": "stream",
     "text": [
      "Reading package lists... Done\n",
      "Building dependency tree... Done\n",
      "Reading state information... Done\n",
      "The following additional packages will be installed:\n",
      "  fonts-liberation libann0 libcdt5 libcgraph6 libgts-0.7-5 libgts-bin libgvc6\n",
      "  libgvpr2 liblab-gamut1 libpathplan4\n",
      "Suggested packages:\n",
      "  gsfonts graphviz-doc\n",
      "The following NEW packages will be installed:\n",
      "  fonts-liberation graphviz libann0 libcdt5 libcgraph6 libgts-0.7-5 libgts-bin\n",
      "  libgvc6 libgvpr2 liblab-gamut1 libpathplan4\n",
      "0 upgraded, 11 newly installed, 0 to remove and 2 not upgraded.\n",
      "Need to get 3032 kB of archives.\n",
      "After this operation, 11.5 MB of additional disk space will be used.\n",
      "Get:1 https://deb.debian.org/debian bullseye/main amd64 fonts-liberation all 1:1.07.4-11 [828 kB]\n",
      "Get:2 https://deb.debian.org/debian bullseye/main amd64 libann0 amd64 1.1.2+doc-7 [25.3 kB]\n",
      "Err:3 https://deb.debian.org/debian bullseye/main amd64 libcdt5 amd64 2.42.2-5\n",
      "  404  Not Found [IP: 151.101.38.132 443]\n",
      "Err:4 https://deb.debian.org/debian bullseye/main amd64 libcgraph6 amd64 2.42.2-5\n",
      "  404  Not Found [IP: 151.101.38.132 443]\n",
      "Get:5 https://deb.debian.org/debian bullseye/main amd64 libgts-0.7-5 amd64 0.7.6+darcs121130-4+b1 [158 kB]\n",
      "Err:6 https://deb.debian.org/debian bullseye/main amd64 libpathplan4 amd64 2.42.2-5\n",
      "  404  Not Found [IP: 151.101.38.132 443]\n",
      "Err:7 https://deb.debian.org/debian bullseye/main amd64 libgvc6 amd64 2.42.2-5\n",
      "  404  Not Found [IP: 151.101.38.132 443]\n",
      "Err:8 https://deb.debian.org/debian bullseye/main amd64 libgvpr2 amd64 2.42.2-5\n",
      "  404  Not Found [IP: 151.101.38.132 443]\n",
      "Err:9 https://deb.debian.org/debian bullseye/main amd64 liblab-gamut1 amd64 2.42.2-5\n",
      "  404  Not Found [IP: 151.101.38.132 443]\n",
      "Err:10 https://deb.debian.org/debian bullseye/main amd64 graphviz amd64 2.42.2-5\n",
      "  404  Not Found [IP: 151.101.38.132 443]\n",
      "Get:11 https://deb.debian.org/debian bullseye/main amd64 libgts-bin amd64 0.7.6+darcs121130-4+b1 [50.3 kB]\n",
      "Fetched 1062 kB in 0s (3717 kB/s) \n",
      "E: Failed to fetch https://deb.debian.org/debian/pool/main/g/graphviz/libcdt5_2.42.2-5_amd64.deb  404  Not Found [IP: 151.101.38.132 443]\n",
      "E: Failed to fetch https://deb.debian.org/debian/pool/main/g/graphviz/libcgraph6_2.42.2-5_amd64.deb  404  Not Found [IP: 151.101.38.132 443]\n",
      "E: Failed to fetch https://deb.debian.org/debian/pool/main/g/graphviz/libpathplan4_2.42.2-5_amd64.deb  404  Not Found [IP: 151.101.38.132 443]\n",
      "E: Failed to fetch https://deb.debian.org/debian/pool/main/g/graphviz/libgvc6_2.42.2-5_amd64.deb  404  Not Found [IP: 151.101.38.132 443]\n",
      "E: Failed to fetch https://deb.debian.org/debian/pool/main/g/graphviz/libgvpr2_2.42.2-5_amd64.deb  404  Not Found [IP: 151.101.38.132 443]\n",
      "E: Failed to fetch https://deb.debian.org/debian/pool/main/g/graphviz/liblab-gamut1_2.42.2-5_amd64.deb  404  Not Found [IP: 151.101.38.132 443]\n",
      "E: Failed to fetch https://deb.debian.org/debian/pool/main/g/graphviz/graphviz_2.42.2-5_amd64.deb  404  Not Found [IP: 151.101.38.132 443]\n",
      "E: Unable to fetch some archives, maybe run apt-get update or try with --fix-missing?\n"
     ]
    }
   ],
   "source": [
    "!sudo apt-get install graphviz -y"
   ]
  },
  {
   "cell_type": "code",
   "execution_count": 3,
   "metadata": {
    "tags": []
   },
   "outputs": [
    {
     "name": "stderr",
     "output_type": "stream",
     "text": [
      "2024-09-21 00:09:01.329082: I tensorflow/core/platform/cpu_feature_guard.cc:193] This TensorFlow binary is optimized with oneAPI Deep Neural Network Library (oneDNN) to use the following CPU instructions in performance-critical operations:  AVX2 FMA\n",
      "To enable them in other operations, rebuild TensorFlow with the appropriate compiler flags.\n",
      "2024-09-21 00:09:07.813914: W tensorflow/compiler/xla/stream_executor/platform/default/dso_loader.cc:64] Could not load dynamic library 'libnvinfer.so.7'; dlerror: libnvinfer.so.7: cannot open shared object file: No such file or directory; LD_LIBRARY_PATH: /usr/local/cuda/lib64:/usr/local/nccl2/lib:/usr/local/cuda/extras/CUPTI/lib64\n",
      "2024-09-21 00:09:07.815081: W tensorflow/compiler/xla/stream_executor/platform/default/dso_loader.cc:64] Could not load dynamic library 'libnvinfer_plugin.so.7'; dlerror: libnvinfer_plugin.so.7: cannot open shared object file: No such file or directory; LD_LIBRARY_PATH: /usr/local/cuda/lib64:/usr/local/nccl2/lib:/usr/local/cuda/extras/CUPTI/lib64\n",
      "2024-09-21 00:09:07.815100: W tensorflow/compiler/tf2tensorrt/utils/py_utils.cc:38] TF-TRT Warning: Cannot dlopen some TensorRT libraries. If you would like to use Nvidia GPU with TensorRT, please make sure the missing libraries mentioned above are installed properly.\n"
     ]
    },
    {
     "name": "stdout",
     "output_type": "stream",
     "text": [
      "TensorFlow version:  2.11.0\n"
     ]
    }
   ],
   "source": [
    "import os, json, math\n",
    "import numpy as np\n",
    "import shutil\n",
    "import tensorflow as tf\n",
    "print(\"TensorFlow version: \",tf.version.VERSION)\n",
    "\n",
    "os.environ['TF_CPP_MIN_LOG_LEVEL'] = '3' # SET TF ERROR LOG VERBOSITY"
   ]
  },
  {
   "cell_type": "markdown",
   "metadata": {},
   "source": [
    "## Locating the CSV files\n",
    "\n",
    "We will start with the CSV files that we wrote out in the other notebook. Just so you don't have to run the notebook, we saved a copy in ../data/toy_data"
   ]
  },
  {
   "cell_type": "code",
   "execution_count": 4,
   "metadata": {
    "tags": []
   },
   "outputs": [
    {
     "name": "stdout",
     "output_type": "stream",
     "text": [
      "-rw-r--r-- 1 jupyter jupyter 1111933 Sep 21 00:06 ../data/toy_data/taxi-traffic-test_toy.csv\n",
      "-rw-r--r-- 1 jupyter jupyter 4772181 Sep 21 00:06 ../data/toy_data/taxi-traffic-train_toy.csv\n",
      "-rw-r--r-- 1 jupyter jupyter 1038564 Sep 21 00:06 ../data/toy_data/taxi-traffic-valid_toy.csv\n"
     ]
    }
   ],
   "source": [
    "!ls -l ../data/toy_data/*.csv"
   ]
  },
  {
   "cell_type": "markdown",
   "metadata": {},
   "source": [
    "## Lab Task 1: Use tf.data to read the CSV files\n",
    "\n",
    "\n",
    "First let's define our columns of data, which column we're predicting for, and the default values."
   ]
  },
  {
   "cell_type": "code",
   "execution_count": 5,
   "metadata": {
    "tags": []
   },
   "outputs": [],
   "source": [
    "CSV_COLUMNS  = ['fare_amount',  'pickup_datetime',\n",
    "                'pickup_longitude', 'pickup_latitude', \n",
    "                'dropoff_longitude', 'dropoff_latitude', \n",
    "                'passenger_count', 'key']\n",
    "LABEL_COLUMN = 'fare_amount'\n",
    "DEFAULTS     = [[0.0],['na'],[0.0],[0.0],[0.0],[0.0],[0.0],['na']]"
   ]
  },
  {
   "cell_type": "markdown",
   "metadata": {},
   "source": [
    "Next, let's define our features we want to use and our label(s) and then load in the dataset for training."
   ]
  },
  {
   "cell_type": "code",
   "execution_count": 7,
   "metadata": {
    "tags": []
   },
   "outputs": [],
   "source": [
    "def features_and_labels(row_data):\n",
    "    for unwanted_col in ['pickup_datetime', 'key']:\n",
    "        row_data.pop(unwanted_col)\n",
    "    label = row_data.pop(LABEL_COLUMN)\n",
    "    return row_data, label  # features, label\n",
    "\n",
    "# load the training data\n",
    "def load_dataset(pattern, batch_size=1, mode=tf.estimator.ModeKeys.EVAL):\n",
    "    dataset = (tf.data.experimental.make_csv_dataset(pattern, batch_size, CSV_COLUMNS, DEFAULTS)\n",
    "             .map(features_and_labels) # features, label\n",
    "             )\n",
    "    if mode == tf.estimator.ModeKeys.TRAIN:\n",
    "        dataset = dataset.shuffle(1000).repeat()\n",
    "    dataset = dataset.prefetch(1) # take advantage of multi-threading; 1=AUTOTUNE\n",
    "    return dataset"
   ]
  },
  {
   "cell_type": "markdown",
   "metadata": {},
   "source": [
    "## Lab Task 2: Build a DNN with Keras\n",
    "\n",
    "Now let's build the Deep Neural Network (DNN) model in Keras and specify the input and hidden layers. We will print out the DNN architecture and then visualize it later on."
   ]
  },
  {
   "cell_type": "code",
   "execution_count": 8,
   "metadata": {
    "tags": []
   },
   "outputs": [
    {
     "name": "stdout",
     "output_type": "stream",
     "text": [
      "Here is our DNN architecture so far:\n",
      "\n",
      "Model: \"model\"\n",
      "__________________________________________________________________________________________________\n",
      " Layer (type)                   Output Shape         Param #     Connected to                     \n",
      "==================================================================================================\n",
      " dropoff_latitude (InputLayer)  [(None,)]            0           []                               \n",
      "                                                                                                  \n",
      " dropoff_longitude (InputLayer)  [(None,)]           0           []                               \n",
      "                                                                                                  \n",
      " passenger_count (InputLayer)   [(None,)]            0           []                               \n",
      "                                                                                                  \n",
      " pickup_latitude (InputLayer)   [(None,)]            0           []                               \n",
      "                                                                                                  \n",
      " pickup_longitude (InputLayer)  [(None,)]            0           []                               \n",
      "                                                                                                  \n",
      " dense_features (DenseFeatures)  (None, 5)           0           ['dropoff_latitude[0][0]',       \n",
      "                                                                  'dropoff_longitude[0][0]',      \n",
      "                                                                  'passenger_count[0][0]',        \n",
      "                                                                  'pickup_latitude[0][0]',        \n",
      "                                                                  'pickup_longitude[0][0]']       \n",
      "                                                                                                  \n",
      " h1 (Dense)                     (None, 32)           192         ['dense_features[0][0]']         \n",
      "                                                                                                  \n",
      " h2 (Dense)                     (None, 8)            264         ['h1[0][0]']                     \n",
      "                                                                                                  \n",
      " fare (Dense)                   (None, 1)            9           ['h2[0][0]']                     \n",
      "                                                                                                  \n",
      "==================================================================================================\n",
      "Total params: 465\n",
      "Trainable params: 465\n",
      "Non-trainable params: 0\n",
      "__________________________________________________________________________________________________\n",
      "None\n"
     ]
    }
   ],
   "source": [
    "# Build a simple Keras DNN using its Functional API\n",
    "def rmse(y_true, y_pred):\n",
    "    return tf.sqrt(tf.reduce_mean(tf.square(y_pred - y_true))) \n",
    "\n",
    "def build_dnn_model():\n",
    "    INPUT_COLS = ['pickup_longitude', 'pickup_latitude', \n",
    "                  'dropoff_longitude', 'dropoff_latitude', \n",
    "                  'passenger_count']\n",
    "\n",
    "    # TODO 2\n",
    "    # input layer\n",
    "    inputs = {\n",
    "        colname : tf.keras.layers.Input(name=colname, shape=(), dtype='float32')\n",
    "           for colname in INPUT_COLS\n",
    "    }\n",
    "    # tf.feature_column.numeric_column() represents real valued or numerical features.\n",
    "    feature_columns = {\n",
    "        colname : tf.feature_column.numeric_column(colname)\n",
    "           for colname in INPUT_COLS\n",
    "    }\n",
    "    \n",
    "    # the constructor for DenseFeatures takes a list of numeric columns\n",
    "    # The Functional API in Keras requires that you specify: LayerConstructor()(inputs)\n",
    "    dnn_inputs = tf.keras.layers.DenseFeatures(feature_columns.values())(inputs)\n",
    "\n",
    "    # two hidden layers of [32, 8] just in like the BQML DNN\n",
    "    h1 = tf.keras.layers.Dense(32, activation='relu', name='h1')(dnn_inputs)\n",
    "    h2 = tf.keras.layers.Dense(8, activation='relu', name='h2')(h1)\n",
    "\n",
    "    # final output is a linear activation because this is regression\n",
    "    output = tf.keras.layers.Dense(1, activation='linear', name='fare')(h2)\n",
    "    model = tf.keras.models.Model(inputs, output)\n",
    "    model.compile(optimizer='adam', loss='mse', metrics=[rmse, 'mse'])\n",
    "    return model\n",
    "\n",
    "print(\"Here is our DNN architecture so far:\\n\")\n",
    "model = build_dnn_model()\n",
    "print(model.summary())"
   ]
  },
  {
   "cell_type": "markdown",
   "metadata": {},
   "source": [
    "## Lab Task 3: Visualize the DNN\n",
    "\n",
    "We can visualize the DNN using the Keras [plot_model](https://www.tensorflow.org/versions/r2.0/api_docs/python/tf/keras/utils/plot_model) utility."
   ]
  },
  {
   "cell_type": "code",
   "execution_count": 9,
   "metadata": {
    "tags": []
   },
   "outputs": [
    {
     "name": "stdout",
     "output_type": "stream",
     "text": [
      "You must install pydot (`pip install pydot`) and install graphviz (see instructions at https://graphviz.gitlab.io/download/) for plot_model to work.\n"
     ]
    }
   ],
   "source": [
    "tf.keras.utils.plot_model(model, 'dnn_model.png', show_shapes=False, rankdir='LR')"
   ]
  },
  {
   "cell_type": "markdown",
   "metadata": {},
   "source": [
    "## Lab Task 4: Train the model\n",
    "\n",
    "To train the model, simply call [model.fit()](https://keras.io/models/model/#fit).\n",
    "\n",
    "Note that we should really use many more NUM_TRAIN_EXAMPLES (i.e. a larger dataset). We shouldn't make assumptions about the quality of the model based on training/evaluating it on a small sample of the full data."
   ]
  },
  {
   "cell_type": "code",
   "execution_count": 10,
   "metadata": {
    "tags": []
   },
   "outputs": [
    {
     "name": "stdout",
     "output_type": "stream",
     "text": [
      "Epoch 1/32\n",
      "48/48 [==============================] - 3s 24ms/step - loss: 124.8766 - rmse: 10.6666 - mse: 124.8766 - val_loss: 88.1567 - val_rmse: 9.3790 - val_mse: 88.1567\n",
      "Epoch 2/32\n",
      "48/48 [==============================] - 1s 11ms/step - loss: 92.6051 - rmse: 9.2604 - mse: 92.6051 - val_loss: 84.3374 - val_rmse: 9.1529 - val_mse: 84.3374\n",
      "Epoch 3/32\n",
      "48/48 [==============================] - 0s 10ms/step - loss: 96.4561 - rmse: 9.4215 - mse: 96.4561 - val_loss: 92.3379 - val_rmse: 9.5948 - val_mse: 92.3379\n",
      "Epoch 4/32\n",
      "48/48 [==============================] - 0s 10ms/step - loss: 88.9767 - rmse: 8.9027 - mse: 88.9767 - val_loss: 85.9544 - val_rmse: 9.2404 - val_mse: 85.9544\n",
      "Epoch 5/32\n",
      "48/48 [==============================] - 0s 10ms/step - loss: 90.1170 - rmse: 9.0067 - mse: 90.1170 - val_loss: 89.8749 - val_rmse: 9.4694 - val_mse: 89.8749\n",
      "Epoch 6/32\n",
      "48/48 [==============================] - 0s 10ms/step - loss: 68.7457 - rmse: 7.8166 - mse: 68.7457 - val_loss: 85.1552 - val_rmse: 9.1986 - val_mse: 85.1552\n",
      "Epoch 7/32\n",
      "48/48 [==============================] - 0s 10ms/step - loss: 76.2804 - rmse: 8.3940 - mse: 76.2804 - val_loss: 87.6527 - val_rmse: 9.3337 - val_mse: 87.6527\n",
      "Epoch 8/32\n",
      "48/48 [==============================] - 0s 10ms/step - loss: 100.6895 - rmse: 9.3059 - mse: 100.6895 - val_loss: 87.1277 - val_rmse: 9.3235 - val_mse: 87.1277\n",
      "Epoch 9/32\n",
      "48/48 [==============================] - 0s 10ms/step - loss: 101.1158 - rmse: 9.6029 - mse: 101.1158 - val_loss: 95.8998 - val_rmse: 9.7790 - val_mse: 95.8998\n",
      "Epoch 10/32\n",
      "48/48 [==============================] - 0s 10ms/step - loss: 83.1613 - rmse: 8.7145 - mse: 83.1613 - val_loss: 87.6769 - val_rmse: 9.3369 - val_mse: 87.6769\n",
      "Epoch 11/32\n",
      "48/48 [==============================] - 0s 10ms/step - loss: 84.4799 - rmse: 8.6996 - mse: 84.4799 - val_loss: 88.1199 - val_rmse: 9.3756 - val_mse: 88.1199\n",
      "Epoch 12/32\n",
      "48/48 [==============================] - 0s 10ms/step - loss: 85.2166 - rmse: 8.8076 - mse: 85.2166 - val_loss: 88.0182 - val_rmse: 9.3540 - val_mse: 88.0182\n",
      "Epoch 13/32\n",
      "48/48 [==============================] - 0s 10ms/step - loss: 103.7455 - rmse: 9.7128 - mse: 103.7455 - val_loss: 83.7292 - val_rmse: 9.1196 - val_mse: 83.7292\n",
      "Epoch 14/32\n",
      "48/48 [==============================] - 0s 10ms/step - loss: 92.6993 - rmse: 9.2553 - mse: 92.6993 - val_loss: 90.1917 - val_rmse: 9.4725 - val_mse: 90.1917\n",
      "Epoch 15/32\n",
      "48/48 [==============================] - 1s 11ms/step - loss: 83.3486 - rmse: 8.7917 - mse: 83.3486 - val_loss: 90.7752 - val_rmse: 9.5025 - val_mse: 90.7752\n",
      "Epoch 16/32\n",
      "48/48 [==============================] - 0s 10ms/step - loss: 97.1191 - rmse: 9.4535 - mse: 97.1191 - val_loss: 86.0707 - val_rmse: 9.2686 - val_mse: 86.0707\n",
      "Epoch 17/32\n",
      "48/48 [==============================] - 0s 10ms/step - loss: 64.9295 - rmse: 7.8045 - mse: 64.9295 - val_loss: 88.0881 - val_rmse: 9.3729 - val_mse: 88.0881\n",
      "Epoch 18/32\n",
      "48/48 [==============================] - 0s 9ms/step - loss: 75.6645 - rmse: 8.3056 - mse: 75.6645 - val_loss: 87.6131 - val_rmse: 9.3361 - val_mse: 87.6131\n",
      "Epoch 19/32\n",
      "48/48 [==============================] - 0s 10ms/step - loss: 105.8043 - rmse: 9.8442 - mse: 105.8043 - val_loss: 89.5048 - val_rmse: 9.4250 - val_mse: 89.5048\n",
      "Epoch 20/32\n",
      "48/48 [==============================] - 0s 10ms/step - loss: 79.5649 - rmse: 8.4432 - mse: 79.5649 - val_loss: 84.8608 - val_rmse: 9.1836 - val_mse: 84.8608\n",
      "Epoch 21/32\n",
      "48/48 [==============================] - 0s 10ms/step - loss: 84.2255 - rmse: 8.6584 - mse: 84.2255 - val_loss: 91.0904 - val_rmse: 9.5141 - val_mse: 91.0904\n",
      "Epoch 22/32\n",
      "48/48 [==============================] - 0s 10ms/step - loss: 76.0782 - rmse: 8.2213 - mse: 76.0782 - val_loss: 84.0688 - val_rmse: 9.1627 - val_mse: 84.0688\n",
      "Epoch 23/32\n",
      "48/48 [==============================] - 0s 9ms/step - loss: 99.4739 - rmse: 9.4607 - mse: 99.4739 - val_loss: 86.0610 - val_rmse: 9.2655 - val_mse: 86.0610\n",
      "Epoch 24/32\n",
      "48/48 [==============================] - 0s 10ms/step - loss: 92.8226 - rmse: 9.1353 - mse: 92.8226 - val_loss: 84.3413 - val_rmse: 9.1778 - val_mse: 84.3413\n",
      "Epoch 25/32\n",
      "48/48 [==============================] - 0s 9ms/step - loss: 86.5496 - rmse: 8.8735 - mse: 86.5496 - val_loss: 90.6410 - val_rmse: 9.4954 - val_mse: 90.6410\n",
      "Epoch 26/32\n",
      "48/48 [==============================] - 0s 10ms/step - loss: 106.2318 - rmse: 9.7631 - mse: 106.2318 - val_loss: 92.0888 - val_rmse: 9.5878 - val_mse: 92.0888\n",
      "Epoch 27/32\n",
      "48/48 [==============================] - 0s 9ms/step - loss: 106.0900 - rmse: 9.7398 - mse: 106.0900 - val_loss: 90.6985 - val_rmse: 9.4599 - val_mse: 90.6985\n",
      "Epoch 28/32\n",
      "48/48 [==============================] - 0s 11ms/step - loss: 105.8102 - rmse: 9.3727 - mse: 105.8102 - val_loss: 85.9965 - val_rmse: 9.2542 - val_mse: 85.9965\n",
      "Epoch 29/32\n",
      "48/48 [==============================] - 0s 10ms/step - loss: 97.8059 - rmse: 9.2255 - mse: 97.8059 - val_loss: 88.8028 - val_rmse: 9.4118 - val_mse: 88.8028\n",
      "Epoch 30/32\n",
      "48/48 [==============================] - 0s 10ms/step - loss: 115.8940 - rmse: 9.8604 - mse: 115.8940 - val_loss: 89.2406 - val_rmse: 9.4112 - val_mse: 89.2406\n",
      "Epoch 31/32\n",
      "48/48 [==============================] - 0s 10ms/step - loss: 89.0275 - rmse: 9.0403 - mse: 89.0275 - val_loss: 84.3857 - val_rmse: 9.1661 - val_mse: 84.3857\n",
      "Epoch 32/32\n",
      "48/48 [==============================] - 0s 9ms/step - loss: 90.7663 - rmse: 8.9538 - mse: 90.7663 - val_loss: 82.7845 - val_rmse: 9.0786 - val_mse: 82.7845\n"
     ]
    }
   ],
   "source": [
    "TRAIN_BATCH_SIZE = 32\n",
    "NUM_TRAIN_EXAMPLES = 10000 * 5 # training dataset repeats, so it will wrap around\n",
    "NUM_EVALS = 32  # how many times to evaluate\n",
    "NUM_EVAL_EXAMPLES = 10000 # enough to get a reasonable sample, but not so much that it slows down\n",
    "\n",
    "trainds = load_dataset('../data/toy_data/taxi-traffic-train*', TRAIN_BATCH_SIZE, tf.estimator.ModeKeys.TRAIN)\n",
    "evalds = load_dataset('../data/toy_data/taxi-traffic-valid*', 1000, tf.estimator.ModeKeys.EVAL).take(NUM_EVAL_EXAMPLES//1000)\n",
    "\n",
    "steps_per_epoch = NUM_TRAIN_EXAMPLES // (TRAIN_BATCH_SIZE * NUM_EVALS)\n",
    "\n",
    "history = model.fit(trainds, \n",
    "                    validation_data=evalds,\n",
    "                    epochs=NUM_EVALS, \n",
    "                    steps_per_epoch=steps_per_epoch)"
   ]
  },
  {
   "cell_type": "markdown",
   "metadata": {},
   "source": [
    "### Visualize the model loss curve\n",
    "\n",
    "Next, we will use matplotlib to draw the model's loss curves for training and validation."
   ]
  },
  {
   "cell_type": "code",
   "execution_count": 11,
   "metadata": {
    "tags": []
   },
   "outputs": [
    {
     "data": {
      "image/png": "[encoded data removed]",
      "text/plain": [
       "<Figure size 1000x500 with 2 Axes>"
      ]
     },
     "metadata": {},
     "output_type": "display_data"
    }
   ],
   "source": [
    "# plot\n",
    "import matplotlib.pyplot as plt\n",
    "nrows = 1\n",
    "ncols = 2\n",
    "fig = plt.figure(figsize=(10, 5))\n",
    "\n",
    "for idx, key in enumerate(['loss', 'rmse']):\n",
    "    ax = fig.add_subplot(nrows, ncols, idx+1)\n",
    "    plt.plot(history.history[key])\n",
    "    plt.plot(history.history['val_{}'.format(key)])\n",
    "    plt.title('model {}'.format(key))\n",
    "    plt.ylabel(key)\n",
    "    plt.xlabel('epoch')\n",
    "    plt.legend(['train', 'validation'], loc='upper left');"
   ]
  },
  {
   "cell_type": "markdown",
   "metadata": {},
   "source": [
    "## Lab Task 5: Predict with the model locally\n",
    "\n",
    "To predict with Keras, you simply call [model.predict()](https://keras.io/models/model/#predict) and pass in the cab ride you want to predict the fare amount for."
   ]
  },
  {
   "cell_type": "code",
   "execution_count": 12,
   "metadata": {
    "tags": []
   },
   "outputs": [
    {
     "name": "stdout",
     "output_type": "stream",
     "text": [
      "1/1 [==============================] - 0s 364ms/step\n"
     ]
    },
    {
     "data": {
      "text/plain": [
       "array([[39.455257]], dtype=float32)"
      ]
     },
     "execution_count": 12,
     "metadata": {},
     "output_type": "execute_result"
    }
   ],
   "source": [
    "# TODO 5\n",
    "# Use the model to do prediction with `model.predict()`\n",
    "model.predict({\n",
    "    'pickup_longitude': tf.convert_to_tensor([-73.982683]),\n",
    "    'pickup_latitude': tf.convert_to_tensor([40.742104]),\n",
    "    'dropoff_longitude': tf.convert_to_tensor([-73.983766]),\n",
    "    'dropoff_latitude': tf.convert_to_tensor([40.755174]),\n",
    "    'passenger_count': tf.convert_to_tensor([3.0]),    \n",
    "}, steps=1)"
   ]
  },
  {
   "cell_type": "markdown",
   "metadata": {},
   "source": [
    "Of course, this is not realistic, because we can't expect client code to have a model object in memory. We'll have to export our model to a file, and expect client code to instantiate the model from that exported file."
   ]
  },
  {
   "cell_type": "markdown",
   "metadata": {},
   "source": [
    "Copyright 2021 Google Inc.\n",
    "Licensed under the Apache License, Version 2.0 (the \"License\"); you may not use this file except in compliance with the License. You may obtain a copy of the License at\n",
    "http://www.apache.org/licenses/LICENSE-2.0\n",
    "Unless required by applicable law or agreed to in writing, software distributed under the License is distributed on an \"AS IS\" BASIS, WITHOUT WARRANTIES OR CONDITIONS OF ANY KIND, either express or implied. See the License for the specific language governing permissions and limitations under the License."
   ]
  }
 ],
 "metadata": {
  "environment": {
   "kernel": "python3",
   "name": "tf2-cpu.2-11.m124",
   "type": "gcloud",
   "uri": "us-docker.pkg.dev/deeplearning-platform-release/gcr.io/tf2-cpu.2-11:m124"
  },
  "kernelspec": {
   "display_name": "Python 3 (Local)",
   "language": "python",
   "name": "python3"
  },
  "language_info": {
   "codemirror_mode": {
    "name": "ipython",
    "version": 3
   },
   "file_extension": ".py",
   "mimetype": "text/x-python",
   "name": "python",
   "nbconvert_exporter": "python",
   "pygments_lexer": "ipython3",
   "version": "3.10.14"
  }
 },
 "nbformat": 4,
 "nbformat_minor": 4
}
